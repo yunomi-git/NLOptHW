{
 "cells": [
  {
   "cell_type": "code",
   "execution_count": 1,
   "id": "e749d3a3",
   "metadata": {},
   "outputs": [
    {
     "name": "stdout",
     "output_type": "stream",
     "text": [
      "(CVXPY) Mar 09 10:42:59 PM: Encountered unexpected exception importing solver GLOP:\n",
      "RuntimeError('Unrecognized new version of ortools (9.6.2534). Expected < 9.5.0.Please open a feature request on cvxpy to enable support for this version.')\n",
      "(CVXPY) Mar 09 10:42:59 PM: Encountered unexpected exception importing solver PDLP:\n",
      "RuntimeError('Unrecognized new version of ortools (9.6.2534). Expected < 9.5.0.Please open a feature request on cvxpy to enable support for this version.')\n"
     ]
    }
   ],
   "source": [
    "import cvxpy as cp\n",
    "import numpy as np\n",
    "import matplotlib.pyplot as plt"
   ]
  },
  {
   "cell_type": "code",
   "execution_count": 8,
   "id": "25c63d83",
   "metadata": {},
   "outputs": [],
   "source": [
    "\n",
    "N = 20\n",
    "np.random.seed(1234)\n",
    "w = np.random.rand(N)\n",
    "k = 10\n",
    "L0 = 0.1\n",
    "a, b = np.array([-1,0]), np.array([1,0])\n"
   ]
  },
  {
   "cell_type": "code",
   "execution_count": 9,
   "id": "00182c3f",
   "metadata": {},
   "outputs": [
    {
     "name": "stdout",
     "output_type": "stream",
     "text": [
      "[[-1.00000000e+00 -7.93770400e-12]\n",
      " [-9.14878229e-01 -6.39029780e-01]\n",
      " [-8.28070527e-01 -1.21560938e+00]\n",
      " [-7.39799681e-01 -1.74818471e+00]\n",
      " [-6.48045658e-01 -2.20158306e+00]\n",
      " [-5.51027845e-01 -2.57576936e+00]\n",
      " [-4.51473704e-01 -2.92200287e+00]\n",
      " [-3.48793665e-01 -3.23963533e+00]\n",
      " [-2.31764235e-01 -3.47117548e+00]\n",
      " [-7.58583851e-02 -3.57192838e+00]\n",
      " [ 8.28706160e-02 -3.48118686e+00]\n",
      " [ 2.23091988e-01 -3.33125892e+00]\n",
      " [ 3.44283886e-01 -3.11725093e+00]\n",
      " [ 4.50749046e-01 -2.82807063e+00]\n",
      " [ 5.48709552e-01 -2.46491318e+00]\n",
      " [ 6.43674314e-01 -2.06397188e+00]\n",
      " [ 7.35194678e-01 -1.60615887e+00]\n",
      " [ 8.24387027e-01 -1.09760064e+00]\n",
      " [ 9.13523299e-01 -5.87655746e-01]\n",
      " [ 1.00000000e+00  4.78598357e-12]]\n"
     ]
    }
   ],
   "source": [
    "\n",
    "######## write your code here ########\n",
    "\n",
    "######################################\n"
   ]
  },
  {
   "cell_type": "code",
   "execution_count": 10,
   "id": "efae58c3",
   "metadata": {},
   "outputs": [
    {
     "data": {
      "image/png": "[encoded data removed]",
      "text/plain": [
       "<Figure size 432x288 with 1 Axes>"
      ]
     },
     "metadata": {
      "needs_background": "light"
     },
     "output_type": "display_data"
    }
   ],
   "source": [
    "# create plots\n",
    "points = x.value\n",
    "for i in range(len(points) - 1):\n",
    "    segment_start = points[i]\n",
    "    segment_end = points[i + 1]\n",
    "    plt.plot([segment_start[0], segment_end[0]], [segment_start[1], segment_end[1]], marker='o')\n",
    "\n",
    "plt.xlabel('X axis')\n",
    "plt.ylabel('Y axis')\n",
    "plt.grid(True)\n",
    "plt.axis('equal')\n",
    "plt.show()"
   ]
  },
  {
   "cell_type": "code",
   "execution_count": null,
   "id": "e0488794",
   "metadata": {},
   "outputs": [],
   "source": []
  }
 ],
 "metadata": {
  "kernelspec": {
   "display_name": "Python 3",
   "language": "python",
   "name": "python3"
  },
  "language_info": {
   "codemirror_mode": {
    "name": "ipython",
    "version": 3
   },
   "file_extension": ".py",
   "mimetype": "text/x-python",
   "name": "python",
   "nbconvert_exporter": "python",
   "pygments_lexer": "ipython3",
   "version": "3.8.8"
  }
 },
 "nbformat": 4,
 "nbformat_minor": 5
}
