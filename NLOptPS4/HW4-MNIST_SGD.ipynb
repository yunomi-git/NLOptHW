{
 "cells": [
  {
   "cell_type": "code",
   "execution_count": null,
   "id": "b8784b75",
   "metadata": {},
   "outputs": [],
   "source": [
    "import numpy as np\n",
    "from sklearn.datasets import fetch_openml\n",
    "from sklearn.model_selection import train_test_split\n",
    "from sklearn.metrics import accuracy_score\n",
    "from sklearn.preprocessing import StandardScaler\n",
    "import matplotlib.pyplot as plt"
   ]
  },
  {
   "cell_type": "code",
   "execution_count": null,
   "id": "65d1e23f",
   "metadata": {},
   "outputs": [],
   "source": [
    "# Load the MNIST dataset\n",
    "mnist = fetch_openml('mnist_784', version=1, parser='auto')\n",
    "X, y = mnist[\"data\"].to_numpy(), mnist[\"target\"].to_numpy()"
   ]
  },
  {
   "cell_type": "code",
   "execution_count": null,
   "id": "265b0793",
   "metadata": {},
   "outputs": [],
   "source": [
    "# Convert y to integer values\n",
    "y = y.astype(int)\n",
    "\n",
    "# Split the dataset into training and testing sets\n",
    "X_train, X_test, y_train, y_test = train_test_split(X, y, test_size=0.2, random_state=42)\n",
    "\n",
    "# Scale the features\n",
    "scaler = StandardScaler()\n",
    "X_train = scaler.fit_transform(X_train)\n",
    "X_test = scaler.transform(X_test)\n",
    "\n",
    "# Add bias term to the features\n",
    "X_train = np.hstack((np.ones((X_train.shape[0], 1)), X_train))\n",
    "X_test = np.hstack((np.ones((X_test.shape[0], 1)), X_test))\n",
    "\n",
    "num_classes = 10\n",
    "num_features = X_train.shape[1]"
   ]
  },
  {
   "cell_type": "code",
   "execution_count": null,
   "id": "281285ac",
   "metadata": {},
   "outputs": [],
   "source": [
    "# Softmax function\n",
    "def softmax(z):\n",
    "    z -= np.max(z,axis=1,keepdims=True)\n",
    "    exp_z = np.exp(z)\n",
    "    return exp_z / np.sum(exp_z, axis=1, keepdims=True)\n",
    "\n",
    "# Cross-entropy loss function\n",
    "def cross_entropy_loss(y_true, y_pred):\n",
    "    return -np.mean(np.log(y_pred[np.arange(len(y_true)), y_true]))"
   ]
  },
  {
   "cell_type": "code",
   "execution_count": null,
   "id": "aca968ce",
   "metadata": {},
   "outputs": [],
   "source": [
    "# Stochastic Gradient Descent\n",
    "def SGD(weights, learning_rate, batch_size, num_iter=1000):\n",
    "    \n",
    "    # save train accuracy\n",
    "    acc_trace = np.zeros((int(num_iter/20),))\n",
    "    \n",
    "    for i in range(num_iter):\n",
    "        \n",
    "        \n",
    "        #############################\n",
    "        # write your code here\n",
    "        \n",
    "        \n",
    "        \n",
    "        \n",
    "        ##############################\n",
    "        if (i+1) % 20 == 0:\n",
    "             \n",
    "            # Compute loss and accuracy on the training set\n",
    "            z_train = np.dot(X_train, weights.T)\n",
    "            y_pred_train = np.argmax(softmax(z_train), axis=1)\n",
    "            loss_train = cross_entropy_loss(y_train, softmax(z_train))\n",
    "            acc_trace[((i+1) // 20)-1] = accuracy_score(y_train, y_pred_train)\n",
    "\n",
    "    \n",
    "\n",
    "    # Evaluate on the test set\n",
    "    z_test = np.dot(X_test, weights.T)\n",
    "    y_pred_test = np.argmax(softmax(z_test), axis=1)\n",
    "    accuracy_test = accuracy_score(y_test, y_pred_test)\n",
    "    print(f\"Test Accuracy: {accuracy_test:.4f}\")\n",
    "    \n",
    "    return acc_trace"
   ]
  },
  {
   "cell_type": "code",
   "execution_count": null,
   "id": "7e29d3b6",
   "metadata": {},
   "outputs": [],
   "source": [
    "acc_trace1 = SGD(np.zeros((num_classes, num_features)), learning_rate=1e-4, batch_size=1, num_iter=1000)"
   ]
  },
  {
   "cell_type": "code",
   "execution_count": null,
   "id": "daee1246",
   "metadata": {},
   "outputs": [],
   "source": []
  },
  {
   "cell_type": "code",
   "execution_count": null,
   "id": "7738e728",
   "metadata": {},
   "outputs": [],
   "source": [
    "# Stochastic Gradient Descent with momentum\n",
    "def SGD_withmom(weights, learning_rate, momentum, batch_size, num_iter=1000):\n",
    "    \n",
    "    # save train accuracy\n",
    "    acc_trace = np.zeros((int(num_iter/20),))\n",
    "    \n",
    "    # initialize momentum\n",
    "    mom_g = np.zeros_like(weights)\n",
    "    for i in range(num_iter):\n",
    "        \n",
    "        #############################\n",
    "        # write your code here\n",
    "        \n",
    "        \n",
    "        \n",
    "        \n",
    "        ##############################\n",
    "\n",
    "        if (i+1) % 20 == 0:\n",
    "        \n",
    "            # Compute loss and accuracy on the training set\n",
    "            z_train = np.dot(X_train, weights.T)\n",
    "            y_pred_train = np.argmax(softmax(z_train), axis=1)\n",
    "            loss_train = cross_entropy_loss(y_train, softmax(z_train))\n",
    "            acc_trace[((i+1) // 20)-1] = accuracy_score(y_train, y_pred_train)\n",
    "\n",
    "    \n",
    "\n",
    "    # Evaluate on the test set\n",
    "    z_test = np.dot(X_test, weights.T)\n",
    "    y_pred_test = np.argmax(softmax(z_test), axis=1)\n",
    "    accuracy_test = accuracy_score(y_test, y_pred_test)\n",
    "    print(f\"Test Accuracy: {accuracy_test:.4f}\")\n",
    "    \n",
    "    return acc_trace"
   ]
  },
  {
   "cell_type": "code",
   "execution_count": null,
   "id": "12b93b41",
   "metadata": {},
   "outputs": [],
   "source": [
    "acc_trace2 = SGD_withmom(np.zeros((num_classes, num_features)), learning_rate=1e-4, momentum=0.5,batch_size=1, num_iter=1000)"
   ]
  },
  {
   "cell_type": "code",
   "execution_count": null,
   "id": "2125bde8",
   "metadata": {},
   "outputs": [],
   "source": [
    "fig, ax = plt.subplots(figsize=(12,8))\n",
    "\n",
    "# Plot the data using semilogy\n",
    "ax.plot(20*np.arange(len(acc_trace1)), acc_trace1, linewidth=2, label='batch=1, lr=1e-4, no momentum')\n",
    "ax.plot(20*np.arange(len(acc_trace2)), acc_trace2, linewidth=2, label='batch=1, lr=1e-4, momentum=0.5')\n",
    "# Set labels and title\n",
    "ax.set_xlabel('Number of iteration')\n",
    "ax.set_ylabel('Accuracy')\n",
    "ax.set_title('Accuracy v.s. Number of iteration')\n",
    "\n",
    "# Add a legend\n",
    "ax.legend()\n",
    "\n",
    "# Display the plot\n",
    "plt.show()"
   ]
  }
 ],
 "metadata": {
  "kernelspec": {
   "display_name": "Python 3",
   "language": "python",
   "name": "python3"
  },
  "language_info": {
   "codemirror_mode": {
    "name": "ipython",
    "version": 3
   },
   "file_extension": ".py",
   "mimetype": "text/x-python",
   "name": "python",
   "nbconvert_exporter": "python",
   "pygments_lexer": "ipython3",
   "version": "3.8.8"
  }
 },
 "nbformat": 4,
 "nbformat_minor": 5
}
