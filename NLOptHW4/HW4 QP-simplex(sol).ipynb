{
 "cells": [
  {
   "cell_type": "code",
   "execution_count": 1,
   "id": "22d04fa7",
   "metadata": {},
   "outputs": [
    {
     "name": "stdout",
     "output_type": "stream",
     "text": [
      "(CVXPY) May 02 07:36:44 PM: Encountered unexpected exception importing solver MOSEK:\n",
      "AttributeError(\"module 'mosek' has no attribute 'conetype'\")\n"
     ]
    }
   ],
   "source": [
    "import cvxpy as cp\n",
    "import numpy as np\n",
    "import matplotlib.pyplot as plt"
   ]
  },
  {
   "cell_type": "code",
   "execution_count": 2,
   "id": "8c3b3506",
   "metadata": {},
   "outputs": [],
   "source": [
    "#################\n",
    "# generating data\n",
    "\n",
    "m, n = 500, 200\n",
    "np.random.seed(2023)\n",
    "\n",
    "A = np.random.randn(m, n) \n",
    "b = np.random.randn(m) \n",
    "#################"
   ]
  },
  {
   "cell_type": "code",
   "execution_count": 3,
   "id": "71792629",
   "metadata": {
    "scrolled": true
   },
   "outputs": [
    {
     "name": "stdout",
     "output_type": "stream",
     "text": [
      "Optimal value is 257.6539356860068\n"
     ]
    }
   ],
   "source": [
    "# question (1)\n",
    "\n",
    "x = cp.Variable(n)\n",
    "objective = cp.Minimize(cp.sum_squares(A @ x - b))\n",
    "constraints = [0 <= x, x.sum() == 1]\n",
    "prob = cp.Problem(objective, constraints)\n",
    "\n",
    "result = prob.solve()\n",
    "\n",
    "\n",
    "opt_x = x.value\n",
    "f_opt = np.linalg.norm(A@np.maximum(opt_x,0)-b)**2/2\n",
    "print(\"Optimal value is {}\".format(f_opt))"
   ]
  },
  {
   "cell_type": "code",
   "execution_count": 4,
   "id": "d9a886c0",
   "metadata": {},
   "outputs": [],
   "source": [
    "# question (2)\n",
    "\n",
    "def proj_simplex(y):\n",
    "\n",
    "    # project y onto the probability simplex x>=0, 1^T x=1\n",
    "    \n",
    "    n_features = y.shape[0]\n",
    "    u = np.sort(y)[::-1]\n",
    "    cssv = np.cumsum(u) - 1\n",
    "    ind = np.arange(n_features) + 1\n",
    "    cond = u - cssv / ind > 0\n",
    "    rho = ind[cond][-1]\n",
    "    theta = cssv[cond][-1] / float(rho)\n",
    "    x = np.maximum(y - theta, 0)\n",
    "    return x\n",
    "\n",
    "def projected_gradient_descent(x, A, b, max_iter = 100):\n",
    "    \n",
    "    # save objective along the trajectory\n",
    "    obj_trace = np.zeros((max_iter,))\n",
    "    \n",
    "    # determine stepsize\n",
    "    eta = 1/np.linalg.eigvalsh(A.T@A)[-1]\n",
    "    \n",
    "    for i in range(max_iter):\n",
    "        \n",
    "        x = proj_simplex( x - eta * A.T @ (A @ x - b) )\n",
    "        \n",
    "        obj_trace[i] = np.linalg.norm(A@x-b)**2/2\n",
    "    \n",
    "    \n",
    "    \n",
    "    return x, obj_trace"
   ]
  },
  {
   "cell_type": "code",
   "execution_count": 5,
   "id": "59a912cd",
   "metadata": {},
   "outputs": [],
   "source": [
    "_, obj_trace1 = projected_gradient_descent(np.ones(n)/n, A, b, max_iter = 30)"
   ]
  },
  {
   "cell_type": "code",
   "execution_count": null,
   "id": "6d4b86a4",
   "metadata": {},
   "outputs": [],
   "source": []
  },
  {
   "cell_type": "code",
   "execution_count": 6,
   "id": "ae08fdc1",
   "metadata": {},
   "outputs": [],
   "source": [
    "# question (3)\n",
    "\n",
    "def fast_projected_gradient_descent(x, A, b, max_iter = 100):\n",
    "    \n",
    "    # save objective along the trajectory\n",
    "    obj_trace = np.zeros((max_iter,))\n",
    "    \n",
    "    # determine stepsize\n",
    "    eta = 1/np.linalg.eigvalsh(A.T@A)[-1]\n",
    "    \n",
    "    x_old = np.copy(x)\n",
    "    for i in range(max_iter):\n",
    "        \n",
    "        \n",
    "        y = x + (i-2)/(i+1) * (x-x_old)\n",
    "        x_old = np.copy(x)\n",
    "        x = proj_simplex( y - eta * A.T @ (A @ y - b) )\n",
    "        \n",
    "        obj_trace[i] = np.linalg.norm(A@x-b)**2/2\n",
    "    \n",
    "    \n",
    "    \n",
    "    return x, obj_trace\n",
    "    \n",
    "    "
   ]
  },
  {
   "cell_type": "code",
   "execution_count": 7,
   "id": "cb25fe6c",
   "metadata": {},
   "outputs": [],
   "source": [
    "_, obj_trace2 = fast_projected_gradient_descent(np.ones(n)/n, A, b, max_iter = 30)"
   ]
  },
  {
   "cell_type": "code",
   "execution_count": null,
   "id": "4f4ffcdf",
   "metadata": {},
   "outputs": [],
   "source": []
  },
  {
   "cell_type": "code",
   "execution_count": 8,
   "id": "dce941ba",
   "metadata": {},
   "outputs": [],
   "source": [
    "# question (4)\n",
    "\n",
    "def mirror_descent(x, A, b, max_iter = 100):\n",
    "    \n",
    "    # save objective along the trajectory\n",
    "    obj_trace = np.zeros((max_iter,))\n",
    "    \n",
    "    # determine stepsize\n",
    "    eta = 1/np.max(np.sum(np.abs(A.T @ A),axis=1))\n",
    "    \n",
    "    for i in range(max_iter):\n",
    "        \n",
    "        xgrad = A.T @ (A @ x - b)\n",
    "        # avoid overflow\n",
    "        xgrad += np.min(xgrad)\n",
    "        \n",
    "        x *= np.exp(-eta * xgrad)\n",
    "        x /= np.sum(x)\n",
    "        \n",
    "        obj_trace[i] = np.linalg.norm(A@x-b)**2/2\n",
    "    \n",
    "    \n",
    "    \n",
    "    return x, obj_trace"
   ]
  },
  {
   "cell_type": "code",
   "execution_count": 9,
   "id": "5f197be0",
   "metadata": {},
   "outputs": [],
   "source": [
    "_, obj_trace3 = mirror_descent(np.ones(n)/n, A, b, max_iter = 30)"
   ]
  },
  {
   "cell_type": "code",
   "execution_count": null,
   "id": "c6e9509d",
   "metadata": {},
   "outputs": [],
   "source": []
  },
  {
   "cell_type": "code",
   "execution_count": 10,
   "id": "147fb3f0",
   "metadata": {},
   "outputs": [],
   "source": [
    "# question (5)\n",
    "\n",
    "def ADMM(x, A, b, rho = 1, max_iter = 100):\n",
    "    \n",
    "    # save objective along the trajectory\n",
    "    obj_trace = np.zeros((max_iter,))\n",
    "\n",
    "        \n",
    "    A_inv = np.linalg.inv(A.T@ A + rho* np.eye(A.shape[1]))\n",
    "    z = np.copy(x)\n",
    "    y = np.zeros_like(x)\n",
    "    for i in range(max_iter):\n",
    "        \n",
    "        \n",
    "        x = A_inv @ (A.T @ b + rho * z - y)\n",
    "        z = proj_simplex( x + y/rho)\n",
    "        y += rho * (x-z)\n",
    "        \n",
    "        obj_trace[i] = np.linalg.norm(A@z-b)**2/2\n",
    "    \n",
    "    \n",
    "    \n",
    "    return z, obj_trace"
   ]
  },
  {
   "cell_type": "code",
   "execution_count": 11,
   "id": "52ad97f1",
   "metadata": {},
   "outputs": [],
   "source": [
    "_, obj_trace4 = ADMM(np.ones(n)/n, A, b, rho = 1e3, max_iter = 30)"
   ]
  },
  {
   "cell_type": "code",
   "execution_count": null,
   "id": "ce44f7e9",
   "metadata": {},
   "outputs": [],
   "source": []
  },
  {
   "cell_type": "code",
   "execution_count": 12,
   "id": "74f00b04",
   "metadata": {},
   "outputs": [
    {
     "data": {
      "image/png": "[encoded data removed]",
      "text/plain": [
       "<Figure size 432x288 with 1 Axes>"
      ]
     },
     "metadata": {
      "needs_background": "light"
     },
     "output_type": "display_data"
    }
   ],
   "source": [
    "fig, ax = plt.subplots()\n",
    "\n",
    "# Plot the data using semilogy\n",
    "ax.semilogy(np.arange(len(obj_trace1)), (obj_trace1-f_opt)/f_opt, linewidth=2, label='Proejcted GD')\n",
    "ax.semilogy(np.arange(len(obj_trace2)), (obj_trace2-f_opt)/f_opt, linewidth=2, label='Fast Proejcted GD')\n",
    "ax.semilogy(np.arange(len(obj_trace3)), (obj_trace3-f_opt)/f_opt, linewidth=2, label='Mirror')\n",
    "ax.semilogy(np.arange(len(obj_trace4)), (obj_trace4-f_opt)/f_opt, linewidth=2, label='ADMM')\n",
    "# Set labels and title\n",
    "ax.set_xlabel('Number of iteration')\n",
    "ax.set_ylabel('Objective')\n",
    "ax.set_title('Objective v.s. Number of iteration')\n",
    "\n",
    "# Add a legend\n",
    "ax.legend()\n",
    "\n",
    "# Display the plot\n",
    "plt.show()"
   ]
  }
 ],
 "metadata": {
  "kernelspec": {
   "display_name": "Python 3",
   "language": "python",
   "name": "python3"
  },
  "language_info": {
   "codemirror_mode": {
    "name": "ipython",
    "version": 3
   },
   "file_extension": ".py",
   "mimetype": "text/x-python",
   "name": "python",
   "nbconvert_exporter": "python",
   "pygments_lexer": "ipython3",
   "version": "3.8.8"
  }
 },
 "nbformat": 4,
 "nbformat_minor": 5
}
