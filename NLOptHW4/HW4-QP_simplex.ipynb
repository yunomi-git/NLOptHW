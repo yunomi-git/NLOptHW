{
 "cells": [
  {
   "cell_type": "code",
   "execution_count": null,
   "id": "f464daa6",
   "metadata": {},
   "outputs": [],
   "source": [
    "import cvxpy as cp\n",
    "import numpy as np\n",
    "import matplotlib.pyplot as plt"
   ]
  },
  {
   "cell_type": "code",
   "execution_count": null,
   "id": "d7ce95d5",
   "metadata": {},
   "outputs": [],
   "source": [
    "#################\n",
    "# generating data\n",
    "\n",
    "m, n = 500, 200\n",
    "np.random.seed(2023)\n",
    "\n",
    "A = np.random.randn(m, n) \n",
    "b = np.random.randn(m) \n",
    "#################"
   ]
  },
  {
   "cell_type": "code",
   "execution_count": null,
   "id": "199e62a0",
   "metadata": {},
   "outputs": [],
   "source": [
    "# question (1)\n",
    "\n",
    "#############################\n",
    "# write your code here\n",
    "        \n",
    "        \n",
    "        \n",
    "        \n",
    "##############################\n",
    "        \n",
    "opt_x = x.value\n",
    "f_opt = np.linalg.norm(A@np.maximum(opt_x,0)-b)**2/2\n",
    "print(\"Optimal value is {}\".format(f_opt))"
   ]
  },
  {
   "cell_type": "code",
   "execution_count": null,
   "id": "1a8079fa",
   "metadata": {},
   "outputs": [],
   "source": [
    "# question (2)\n",
    "\n",
    "def proj_simplex(y):\n",
    "\n",
    "    # project y onto the probability simplex x>=0, 1^T x=1\n",
    "    \n",
    "    #############################\n",
    "    # write your code here\n",
    "        \n",
    "        \n",
    "        \n",
    "        \n",
    "    ##############################\n",
    "\n",
    "def projected_gradient_descent(x, A, b, max_iter = 100):\n",
    "    \n",
    "    # save objective along the trajectory\n",
    "    obj_trace = np.zeros((max_iter,))\n",
    "        \n",
    "    #############################\n",
    "    # write your code here\n",
    "        \n",
    "        \n",
    "        \n",
    "        \n",
    "    ##############################\n",
    "    \n",
    "    return x, obj_trace"
   ]
  },
  {
   "cell_type": "code",
   "execution_count": null,
   "id": "845e6198",
   "metadata": {},
   "outputs": [],
   "source": [
    "_, obj_trace1 = projected_gradient_descent(np.ones(n)/n, A, b, max_iter = 30)"
   ]
  },
  {
   "cell_type": "code",
   "execution_count": null,
   "id": "2d4de45a",
   "metadata": {},
   "outputs": [],
   "source": []
  },
  {
   "cell_type": "code",
   "execution_count": null,
   "id": "a1c8db5e",
   "metadata": {},
   "outputs": [],
   "source": [
    "# question (3)\n",
    "\n",
    "def fast_projected_gradient_descent(x, A, b, max_iter = 100):\n",
    "    \n",
    "    # save objective along the trajectory\n",
    "    obj_trace = np.zeros((max_iter,))\n",
    "    \n",
    "    \n",
    "    #############################\n",
    "    # write your code here\n",
    "        \n",
    "        \n",
    "        \n",
    "        \n",
    "    ##############################\n",
    "\n",
    "    return x, obj_trace\n",
    "    \n",
    "    "
   ]
  },
  {
   "cell_type": "code",
   "execution_count": null,
   "id": "0ac09726",
   "metadata": {},
   "outputs": [],
   "source": [
    "_, obj_trace2 = fast_projected_gradient_descent(np.ones(n)/n, A, b, max_iter = 30)"
   ]
  },
  {
   "cell_type": "code",
   "execution_count": null,
   "id": "37046968",
   "metadata": {},
   "outputs": [],
   "source": []
  },
  {
   "cell_type": "code",
   "execution_count": null,
   "id": "8c1df381",
   "metadata": {},
   "outputs": [],
   "source": [
    "# question (4)\n",
    "\n",
    "def mirror_descent(x, A, b, max_iter = 100):\n",
    "    \n",
    "    # save objective along the trajectory\n",
    "    obj_trace = np.zeros((max_iter,))\n",
    "    \n",
    "    #############################\n",
    "    # write your code here\n",
    "        \n",
    "        \n",
    "        \n",
    "        \n",
    "    ##############################\n",
    "    \n",
    "    return x, obj_trace"
   ]
  },
  {
   "cell_type": "code",
   "execution_count": null,
   "id": "28c012cf",
   "metadata": {},
   "outputs": [],
   "source": [
    "_, obj_trace3 = mirror_descent(np.ones(n)/n, A, b, max_iter = 30)"
   ]
  },
  {
   "cell_type": "code",
   "execution_count": null,
   "id": "900156f2",
   "metadata": {},
   "outputs": [],
   "source": []
  },
  {
   "cell_type": "code",
   "execution_count": null,
   "id": "600b7f80",
   "metadata": {},
   "outputs": [],
   "source": [
    "# question (5)\n",
    "\n",
    "def ADMM(x, A, b, rho = 1, max_iter = 100):\n",
    "    \n",
    "    # save objective along the trajectory\n",
    "    obj_trace = np.zeros((max_iter,))\n",
    "\n",
    "        \n",
    "    #############################\n",
    "    # write your code here\n",
    "        \n",
    "        \n",
    "        \n",
    "        \n",
    "    ##############################\n",
    "    \n",
    "    return z, obj_trace"
   ]
  },
  {
   "cell_type": "code",
   "execution_count": null,
   "id": "a9f06127",
   "metadata": {},
   "outputs": [],
   "source": [
    "# Hint: test different rho\n",
    "_, obj_trace4 = ADMM(np.ones(n)/n, A, b, rho = 1, max_iter = 30)"
   ]
  },
  {
   "cell_type": "code",
   "execution_count": null,
   "id": "2d96772d",
   "metadata": {},
   "outputs": [],
   "source": []
  },
  {
   "cell_type": "code",
   "execution_count": null,
   "id": "e681d406",
   "metadata": {},
   "outputs": [],
   "source": [
    "fig, ax = plt.subplots()\n",
    "\n",
    "# Plot the data using semilogy\n",
    "ax.semilogy(np.arange(len(obj_trace1)), (obj_trace1-f_opt)/f_opt, linewidth=2, label='Proejcted GD')\n",
    "ax.semilogy(np.arange(len(obj_trace2)), (obj_trace2-f_opt)/f_opt, linewidth=2, label='Fast Proejcted GD')\n",
    "ax.semilogy(np.arange(len(obj_trace3)), (obj_trace3-f_opt)/f_opt, linewidth=2, label='Mirror')\n",
    "ax.semilogy(np.arange(len(obj_trace4)), (obj_trace4-f_opt)/f_opt, linewidth=2, label='ADMM')\n",
    "# Set labels and title\n",
    "ax.set_xlabel('Number of iteration')\n",
    "ax.set_ylabel('Objective')\n",
    "ax.set_title('Objective v.s. Number of iteration')\n",
    "\n",
    "# Add a legend\n",
    "ax.legend()\n",
    "\n",
    "# Display the plot\n",
    "plt.show()"
   ]
  }
 ],
 "metadata": {
  "kernelspec": {
   "display_name": "Python 3",
   "language": "python",
   "name": "python3"
  },
  "language_info": {
   "codemirror_mode": {
    "name": "ipython",
    "version": 3
   },
   "file_extension": ".py",
   "mimetype": "text/x-python",
   "name": "python",
   "nbconvert_exporter": "python",
   "pygments_lexer": "ipython3",
   "version": "3.8.8"
  }
 },
 "nbformat": 4,
 "nbformat_minor": 5
}
